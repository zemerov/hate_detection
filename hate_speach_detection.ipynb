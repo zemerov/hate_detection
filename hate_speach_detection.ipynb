{
  "nbformat": 4,
  "nbformat_minor": 0,
  "metadata": {
    "accelerator": "GPU",
    "colab": {
      "name": "Hate_speach_detection.ipynb",
      "provenance": [],
      "collapsed_sections": [],
      "authorship_tag": "ABX9TyMC3d2ngqm2qfiW2K+KyV2N",
      "include_colab_link": true
    },
    "kernelspec": {
      "display_name": "Python 3",
      "name": "python3"
    },
    "language_info": {
      "name": "python"
    },
    "widgets": {
      "application/vnd.jupyter.widget-state+json": {
        "c5e490dc7ac44d62bf1b9c847304217c": {
          "model_module": "@jupyter-widgets/controls",
          "model_name": "HBoxModel",
          "state": {
            "_view_name": "HBoxView",
            "_dom_classes": [],
            "_model_name": "HBoxModel",
            "_view_module": "@jupyter-widgets/controls",
            "_model_module_version": "1.5.0",
            "_view_count": null,
            "_view_module_version": "1.5.0",
            "box_style": "",
            "layout": "IPY_MODEL_f5d3629d48274d1c9f4c795217ee433d",
            "_model_module": "@jupyter-widgets/controls",
            "children": [
              "IPY_MODEL_86b163ff1c194161a66c3af1787c5097",
              "IPY_MODEL_0b94241a16e346e5adcdf15507cecfc9"
            ]
          }
        },
        "f5d3629d48274d1c9f4c795217ee433d": {
          "model_module": "@jupyter-widgets/base",
          "model_name": "LayoutModel",
          "state": {
            "_view_name": "LayoutView",
            "grid_template_rows": null,
            "right": null,
            "justify_content": null,
            "_view_module": "@jupyter-widgets/base",
            "overflow": null,
            "_model_module_version": "1.2.0",
            "_view_count": null,
            "flex_flow": null,
            "width": null,
            "min_width": null,
            "border": null,
            "align_items": null,
            "bottom": null,
            "_model_module": "@jupyter-widgets/base",
            "top": null,
            "grid_column": null,
            "overflow_y": null,
            "overflow_x": null,
            "grid_auto_flow": null,
            "grid_area": null,
            "grid_template_columns": null,
            "flex": null,
            "_model_name": "LayoutModel",
            "justify_items": null,
            "grid_row": null,
            "max_height": null,
            "align_content": null,
            "visibility": null,
            "align_self": null,
            "height": null,
            "min_height": null,
            "padding": null,
            "grid_auto_rows": null,
            "grid_gap": null,
            "max_width": null,
            "order": null,
            "_view_module_version": "1.2.0",
            "grid_template_areas": null,
            "object_position": null,
            "object_fit": null,
            "grid_auto_columns": null,
            "margin": null,
            "display": null,
            "left": null
          }
        },
        "86b163ff1c194161a66c3af1787c5097": {
          "model_module": "@jupyter-widgets/controls",
          "model_name": "FloatProgressModel",
          "state": {
            "_view_name": "ProgressView",
            "style": "IPY_MODEL_51575af18f23498c8cf2db69b39db280",
            "_dom_classes": [],
            "description": "Batching data: 100%",
            "_model_name": "FloatProgressModel",
            "bar_style": "success",
            "max": 640,
            "_view_module": "@jupyter-widgets/controls",
            "_model_module_version": "1.5.0",
            "value": 640,
            "_view_count": null,
            "_view_module_version": "1.5.0",
            "orientation": "horizontal",
            "min": 0,
            "description_tooltip": null,
            "_model_module": "@jupyter-widgets/controls",
            "layout": "IPY_MODEL_b371583d8c6b455ca1467c47887b6581"
          }
        },
        "0b94241a16e346e5adcdf15507cecfc9": {
          "model_module": "@jupyter-widgets/controls",
          "model_name": "HTMLModel",
          "state": {
            "_view_name": "HTMLView",
            "style": "IPY_MODEL_bb10231ff8c8470b8245198d819f371d",
            "_dom_classes": [],
            "description": "",
            "_model_name": "HTMLModel",
            "placeholder": "​",
            "_view_module": "@jupyter-widgets/controls",
            "_model_module_version": "1.5.0",
            "value": " 640/640 [00:10&lt;00:00, 61.51it/s]",
            "_view_count": null,
            "_view_module_version": "1.5.0",
            "description_tooltip": null,
            "_model_module": "@jupyter-widgets/controls",
            "layout": "IPY_MODEL_8942a6ffd905420aafd92599e27e9dbe"
          }
        },
        "51575af18f23498c8cf2db69b39db280": {
          "model_module": "@jupyter-widgets/controls",
          "model_name": "ProgressStyleModel",
          "state": {
            "_view_name": "StyleView",
            "_model_name": "ProgressStyleModel",
            "description_width": "initial",
            "_view_module": "@jupyter-widgets/base",
            "_model_module_version": "1.5.0",
            "_view_count": null,
            "_view_module_version": "1.2.0",
            "bar_color": null,
            "_model_module": "@jupyter-widgets/controls"
          }
        },
        "b371583d8c6b455ca1467c47887b6581": {
          "model_module": "@jupyter-widgets/base",
          "model_name": "LayoutModel",
          "state": {
            "_view_name": "LayoutView",
            "grid_template_rows": null,
            "right": null,
            "justify_content": null,
            "_view_module": "@jupyter-widgets/base",
            "overflow": null,
            "_model_module_version": "1.2.0",
            "_view_count": null,
            "flex_flow": null,
            "width": null,
            "min_width": null,
            "border": null,
            "align_items": null,
            "bottom": null,
            "_model_module": "@jupyter-widgets/base",
            "top": null,
            "grid_column": null,
            "overflow_y": null,
            "overflow_x": null,
            "grid_auto_flow": null,
            "grid_area": null,
            "grid_template_columns": null,
            "flex": null,
            "_model_name": "LayoutModel",
            "justify_items": null,
            "grid_row": null,
            "max_height": null,
            "align_content": null,
            "visibility": null,
            "align_self": null,
            "height": null,
            "min_height": null,
            "padding": null,
            "grid_auto_rows": null,
            "grid_gap": null,
            "max_width": null,
            "order": null,
            "_view_module_version": "1.2.0",
            "grid_template_areas": null,
            "object_position": null,
            "object_fit": null,
            "grid_auto_columns": null,
            "margin": null,
            "display": null,
            "left": null
          }
        },
        "bb10231ff8c8470b8245198d819f371d": {
          "model_module": "@jupyter-widgets/controls",
          "model_name": "DescriptionStyleModel",
          "state": {
            "_view_name": "StyleView",
            "_model_name": "DescriptionStyleModel",
            "description_width": "",
            "_view_module": "@jupyter-widgets/base",
            "_model_module_version": "1.5.0",
            "_view_count": null,
            "_view_module_version": "1.2.0",
            "_model_module": "@jupyter-widgets/controls"
          }
        },
        "8942a6ffd905420aafd92599e27e9dbe": {
          "model_module": "@jupyter-widgets/base",
          "model_name": "LayoutModel",
          "state": {
            "_view_name": "LayoutView",
            "grid_template_rows": null,
            "right": null,
            "justify_content": null,
            "_view_module": "@jupyter-widgets/base",
            "overflow": null,
            "_model_module_version": "1.2.0",
            "_view_count": null,
            "flex_flow": null,
            "width": null,
            "min_width": null,
            "border": null,
            "align_items": null,
            "bottom": null,
            "_model_module": "@jupyter-widgets/base",
            "top": null,
            "grid_column": null,
            "overflow_y": null,
            "overflow_x": null,
            "grid_auto_flow": null,
            "grid_area": null,
            "grid_template_columns": null,
            "flex": null,
            "_model_name": "LayoutModel",
            "justify_items": null,
            "grid_row": null,
            "max_height": null,
            "align_content": null,
            "visibility": null,
            "align_self": null,
            "height": null,
            "min_height": null,
            "padding": null,
            "grid_auto_rows": null,
            "grid_gap": null,
            "max_width": null,
            "order": null,
            "_view_module_version": "1.2.0",
            "grid_template_areas": null,
            "object_position": null,
            "object_fit": null,
            "grid_auto_columns": null,
            "margin": null,
            "display": null,
            "left": null
          }
        },
        "6def4da75fae42958761ac2c2d6bbf1d": {
          "model_module": "@jupyter-widgets/controls",
          "model_name": "HBoxModel",
          "state": {
            "_view_name": "HBoxView",
            "_dom_classes": [],
            "_model_name": "HBoxModel",
            "_view_module": "@jupyter-widgets/controls",
            "_model_module_version": "1.5.0",
            "_view_count": null,
            "_view_module_version": "1.5.0",
            "box_style": "",
            "layout": "IPY_MODEL_084f2367ea9c4a2e86fa0d984b870436",
            "_model_module": "@jupyter-widgets/controls",
            "children": [
              "IPY_MODEL_68fae42d9c5a4743ac1b63a5afb056b5",
              "IPY_MODEL_05456daca3dc4e6193b56e4f1017dd83"
            ]
          }
        },
        "084f2367ea9c4a2e86fa0d984b870436": {
          "model_module": "@jupyter-widgets/base",
          "model_name": "LayoutModel",
          "state": {
            "_view_name": "LayoutView",
            "grid_template_rows": null,
            "right": null,
            "justify_content": null,
            "_view_module": "@jupyter-widgets/base",
            "overflow": null,
            "_model_module_version": "1.2.0",
            "_view_count": null,
            "flex_flow": null,
            "width": null,
            "min_width": null,
            "border": null,
            "align_items": null,
            "bottom": null,
            "_model_module": "@jupyter-widgets/base",
            "top": null,
            "grid_column": null,
            "overflow_y": null,
            "overflow_x": null,
            "grid_auto_flow": null,
            "grid_area": null,
            "grid_template_columns": null,
            "flex": null,
            "_model_name": "LayoutModel",
            "justify_items": null,
            "grid_row": null,
            "max_height": null,
            "align_content": null,
            "visibility": null,
            "align_self": null,
            "height": null,
            "min_height": null,
            "padding": null,
            "grid_auto_rows": null,
            "grid_gap": null,
            "max_width": null,
            "order": null,
            "_view_module_version": "1.2.0",
            "grid_template_areas": null,
            "object_position": null,
            "object_fit": null,
            "grid_auto_columns": null,
            "margin": null,
            "display": null,
            "left": null
          }
        },
        "68fae42d9c5a4743ac1b63a5afb056b5": {
          "model_module": "@jupyter-widgets/controls",
          "model_name": "FloatProgressModel",
          "state": {
            "_view_name": "ProgressView",
            "style": "IPY_MODEL_cedd0c4aa0754cc1b4787ca3e3729b9b",
            "_dom_classes": [],
            "description": "Batching data: 100%",
            "_model_name": "FloatProgressModel",
            "bar_style": "success",
            "max": 80,
            "_view_module": "@jupyter-widgets/controls",
            "_model_module_version": "1.5.0",
            "value": 80,
            "_view_count": null,
            "_view_module_version": "1.5.0",
            "orientation": "horizontal",
            "min": 0,
            "description_tooltip": null,
            "_model_module": "@jupyter-widgets/controls",
            "layout": "IPY_MODEL_6a8166d0ff3149bcbc1969b4e96e9b63"
          }
        },
        "05456daca3dc4e6193b56e4f1017dd83": {
          "model_module": "@jupyter-widgets/controls",
          "model_name": "HTMLModel",
          "state": {
            "_view_name": "HTMLView",
            "style": "IPY_MODEL_b188233dcd724462af6213ee35b37a12",
            "_dom_classes": [],
            "description": "",
            "_model_name": "HTMLModel",
            "placeholder": "​",
            "_view_module": "@jupyter-widgets/controls",
            "_model_module_version": "1.5.0",
            "value": " 80/80 [00:02&lt;00:00, 29.31it/s]",
            "_view_count": null,
            "_view_module_version": "1.5.0",
            "description_tooltip": null,
            "_model_module": "@jupyter-widgets/controls",
            "layout": "IPY_MODEL_74befa9a7b4f475a8ad2530cb951407f"
          }
        },
        "cedd0c4aa0754cc1b4787ca3e3729b9b": {
          "model_module": "@jupyter-widgets/controls",
          "model_name": "ProgressStyleModel",
          "state": {
            "_view_name": "StyleView",
            "_model_name": "ProgressStyleModel",
            "description_width": "initial",
            "_view_module": "@jupyter-widgets/base",
            "_model_module_version": "1.5.0",
            "_view_count": null,
            "_view_module_version": "1.2.0",
            "bar_color": null,
            "_model_module": "@jupyter-widgets/controls"
          }
        },
        "6a8166d0ff3149bcbc1969b4e96e9b63": {
          "model_module": "@jupyter-widgets/base",
          "model_name": "LayoutModel",
          "state": {
            "_view_name": "LayoutView",
            "grid_template_rows": null,
            "right": null,
            "justify_content": null,
            "_view_module": "@jupyter-widgets/base",
            "overflow": null,
            "_model_module_version": "1.2.0",
            "_view_count": null,
            "flex_flow": null,
            "width": null,
            "min_width": null,
            "border": null,
            "align_items": null,
            "bottom": null,
            "_model_module": "@jupyter-widgets/base",
            "top": null,
            "grid_column": null,
            "overflow_y": null,
            "overflow_x": null,
            "grid_auto_flow": null,
            "grid_area": null,
            "grid_template_columns": null,
            "flex": null,
            "_model_name": "LayoutModel",
            "justify_items": null,
            "grid_row": null,
            "max_height": null,
            "align_content": null,
            "visibility": null,
            "align_self": null,
            "height": null,
            "min_height": null,
            "padding": null,
            "grid_auto_rows": null,
            "grid_gap": null,
            "max_width": null,
            "order": null,
            "_view_module_version": "1.2.0",
            "grid_template_areas": null,
            "object_position": null,
            "object_fit": null,
            "grid_auto_columns": null,
            "margin": null,
            "display": null,
            "left": null
          }
        },
        "b188233dcd724462af6213ee35b37a12": {
          "model_module": "@jupyter-widgets/controls",
          "model_name": "DescriptionStyleModel",
          "state": {
            "_view_name": "StyleView",
            "_model_name": "DescriptionStyleModel",
            "description_width": "",
            "_view_module": "@jupyter-widgets/base",
            "_model_module_version": "1.5.0",
            "_view_count": null,
            "_view_module_version": "1.2.0",
            "_model_module": "@jupyter-widgets/controls"
          }
        },
        "74befa9a7b4f475a8ad2530cb951407f": {
          "model_module": "@jupyter-widgets/base",
          "model_name": "LayoutModel",
          "state": {
            "_view_name": "LayoutView",
            "grid_template_rows": null,
            "right": null,
            "justify_content": null,
            "_view_module": "@jupyter-widgets/base",
            "overflow": null,
            "_model_module_version": "1.2.0",
            "_view_count": null,
            "flex_flow": null,
            "width": null,
            "min_width": null,
            "border": null,
            "align_items": null,
            "bottom": null,
            "_model_module": "@jupyter-widgets/base",
            "top": null,
            "grid_column": null,
            "overflow_y": null,
            "overflow_x": null,
            "grid_auto_flow": null,
            "grid_area": null,
            "grid_template_columns": null,
            "flex": null,
            "_model_name": "LayoutModel",
            "justify_items": null,
            "grid_row": null,
            "max_height": null,
            "align_content": null,
            "visibility": null,
            "align_self": null,
            "height": null,
            "min_height": null,
            "padding": null,
            "grid_auto_rows": null,
            "grid_gap": null,
            "max_width": null,
            "order": null,
            "_view_module_version": "1.2.0",
            "grid_template_areas": null,
            "object_position": null,
            "object_fit": null,
            "grid_auto_columns": null,
            "margin": null,
            "display": null,
            "left": null
          }
        },
        "b9a22192082d4d0da10e656e5dfacef8": {
          "model_module": "@jupyter-widgets/controls",
          "model_name": "HBoxModel",
          "state": {
            "_view_name": "HBoxView",
            "_dom_classes": [],
            "_model_name": "HBoxModel",
            "_view_module": "@jupyter-widgets/controls",
            "_model_module_version": "1.5.0",
            "_view_count": null,
            "_view_module_version": "1.5.0",
            "box_style": "",
            "layout": "IPY_MODEL_e29a1963fb3f4e15acb836e189eb81b7",
            "_model_module": "@jupyter-widgets/controls",
            "children": [
              "IPY_MODEL_dd064727e0774b6a9d9cab06b5218b4b",
              "IPY_MODEL_743dff16f73946d5979f980af81c1474"
            ]
          }
        },
        "e29a1963fb3f4e15acb836e189eb81b7": {
          "model_module": "@jupyter-widgets/base",
          "model_name": "LayoutModel",
          "state": {
            "_view_name": "LayoutView",
            "grid_template_rows": null,
            "right": null,
            "justify_content": null,
            "_view_module": "@jupyter-widgets/base",
            "overflow": null,
            "_model_module_version": "1.2.0",
            "_view_count": null,
            "flex_flow": null,
            "width": null,
            "min_width": null,
            "border": null,
            "align_items": null,
            "bottom": null,
            "_model_module": "@jupyter-widgets/base",
            "top": null,
            "grid_column": null,
            "overflow_y": null,
            "overflow_x": null,
            "grid_auto_flow": null,
            "grid_area": null,
            "grid_template_columns": null,
            "flex": null,
            "_model_name": "LayoutModel",
            "justify_items": null,
            "grid_row": null,
            "max_height": null,
            "align_content": null,
            "visibility": null,
            "align_self": null,
            "height": null,
            "min_height": null,
            "padding": null,
            "grid_auto_rows": null,
            "grid_gap": null,
            "max_width": null,
            "order": null,
            "_view_module_version": "1.2.0",
            "grid_template_areas": null,
            "object_position": null,
            "object_fit": null,
            "grid_auto_columns": null,
            "margin": null,
            "display": null,
            "left": null
          }
        },
        "dd064727e0774b6a9d9cab06b5218b4b": {
          "model_module": "@jupyter-widgets/controls",
          "model_name": "FloatProgressModel",
          "state": {
            "_view_name": "ProgressView",
            "style": "IPY_MODEL_733659ed4acd4964bb2cfbd95ee26fd1",
            "_dom_classes": [],
            "description": "Batching data: 100%",
            "_model_name": "FloatProgressModel",
            "bar_style": "success",
            "max": 80,
            "_view_module": "@jupyter-widgets/controls",
            "_model_module_version": "1.5.0",
            "value": 80,
            "_view_count": null,
            "_view_module_version": "1.5.0",
            "orientation": "horizontal",
            "min": 0,
            "description_tooltip": null,
            "_model_module": "@jupyter-widgets/controls",
            "layout": "IPY_MODEL_2f02bc6c885a48c1a6e275988c0b6b98"
          }
        },
        "743dff16f73946d5979f980af81c1474": {
          "model_module": "@jupyter-widgets/controls",
          "model_name": "HTMLModel",
          "state": {
            "_view_name": "HTMLView",
            "style": "IPY_MODEL_e6a555395cd34f1ca0154b70f34d5db7",
            "_dom_classes": [],
            "description": "",
            "_model_name": "HTMLModel",
            "placeholder": "​",
            "_view_module": "@jupyter-widgets/controls",
            "_model_module_version": "1.5.0",
            "value": " 80/80 [00:01&lt;00:00, 44.26it/s]",
            "_view_count": null,
            "_view_module_version": "1.5.0",
            "description_tooltip": null,
            "_model_module": "@jupyter-widgets/controls",
            "layout": "IPY_MODEL_265c877b310b4623b74929b20d48b978"
          }
        },
        "733659ed4acd4964bb2cfbd95ee26fd1": {
          "model_module": "@jupyter-widgets/controls",
          "model_name": "ProgressStyleModel",
          "state": {
            "_view_name": "StyleView",
            "_model_name": "ProgressStyleModel",
            "description_width": "initial",
            "_view_module": "@jupyter-widgets/base",
            "_model_module_version": "1.5.0",
            "_view_count": null,
            "_view_module_version": "1.2.0",
            "bar_color": null,
            "_model_module": "@jupyter-widgets/controls"
          }
        },
        "2f02bc6c885a48c1a6e275988c0b6b98": {
          "model_module": "@jupyter-widgets/base",
          "model_name": "LayoutModel",
          "state": {
            "_view_name": "LayoutView",
            "grid_template_rows": null,
            "right": null,
            "justify_content": null,
            "_view_module": "@jupyter-widgets/base",
            "overflow": null,
            "_model_module_version": "1.2.0",
            "_view_count": null,
            "flex_flow": null,
            "width": null,
            "min_width": null,
            "border": null,
            "align_items": null,
            "bottom": null,
            "_model_module": "@jupyter-widgets/base",
            "top": null,
            "grid_column": null,
            "overflow_y": null,
            "overflow_x": null,
            "grid_auto_flow": null,
            "grid_area": null,
            "grid_template_columns": null,
            "flex": null,
            "_model_name": "LayoutModel",
            "justify_items": null,
            "grid_row": null,
            "max_height": null,
            "align_content": null,
            "visibility": null,
            "align_self": null,
            "height": null,
            "min_height": null,
            "padding": null,
            "grid_auto_rows": null,
            "grid_gap": null,
            "max_width": null,
            "order": null,
            "_view_module_version": "1.2.0",
            "grid_template_areas": null,
            "object_position": null,
            "object_fit": null,
            "grid_auto_columns": null,
            "margin": null,
            "display": null,
            "left": null
          }
        },
        "e6a555395cd34f1ca0154b70f34d5db7": {
          "model_module": "@jupyter-widgets/controls",
          "model_name": "DescriptionStyleModel",
          "state": {
            "_view_name": "StyleView",
            "_model_name": "DescriptionStyleModel",
            "description_width": "",
            "_view_module": "@jupyter-widgets/base",
            "_model_module_version": "1.5.0",
            "_view_count": null,
            "_view_module_version": "1.2.0",
            "_model_module": "@jupyter-widgets/controls"
          }
        },
        "265c877b310b4623b74929b20d48b978": {
          "model_module": "@jupyter-widgets/base",
          "model_name": "LayoutModel",
          "state": {
            "_view_name": "LayoutView",
            "grid_template_rows": null,
            "right": null,
            "justify_content": null,
            "_view_module": "@jupyter-widgets/base",
            "overflow": null,
            "_model_module_version": "1.2.0",
            "_view_count": null,
            "flex_flow": null,
            "width": null,
            "min_width": null,
            "border": null,
            "align_items": null,
            "bottom": null,
            "_model_module": "@jupyter-widgets/base",
            "top": null,
            "grid_column": null,
            "overflow_y": null,
            "overflow_x": null,
            "grid_auto_flow": null,
            "grid_area": null,
            "grid_template_columns": null,
            "flex": null,
            "_model_name": "LayoutModel",
            "justify_items": null,
            "grid_row": null,
            "max_height": null,
            "align_content": null,
            "visibility": null,
            "align_self": null,
            "height": null,
            "min_height": null,
            "padding": null,
            "grid_auto_rows": null,
            "grid_gap": null,
            "max_width": null,
            "order": null,
            "_view_module_version": "1.2.0",
            "grid_template_areas": null,
            "object_position": null,
            "object_fit": null,
            "grid_auto_columns": null,
            "margin": null,
            "display": null,
            "left": null
          }
        },
        "ba247389b73d4c2eb5c3f4a85e539d5a": {
          "model_module": "@jupyter-widgets/controls",
          "model_name": "HBoxModel",
          "state": {
            "_view_name": "HBoxView",
            "_dom_classes": [],
            "_model_name": "HBoxModel",
            "_view_module": "@jupyter-widgets/controls",
            "_model_module_version": "1.5.0",
            "_view_count": null,
            "_view_module_version": "1.5.0",
            "box_style": "",
            "layout": "IPY_MODEL_5373e9e54d414da69b5c16298eb600bc",
            "_model_module": "@jupyter-widgets/controls",
            "children": [
              "IPY_MODEL_d76042761c4e4a3583d899540df1afc5",
              "IPY_MODEL_57c8d6068758401dad16d2bc1494f5ec"
            ]
          }
        },
        "5373e9e54d414da69b5c16298eb600bc": {
          "model_module": "@jupyter-widgets/base",
          "model_name": "LayoutModel",
          "state": {
            "_view_name": "LayoutView",
            "grid_template_rows": null,
            "right": null,
            "justify_content": null,
            "_view_module": "@jupyter-widgets/base",
            "overflow": null,
            "_model_module_version": "1.2.0",
            "_view_count": null,
            "flex_flow": null,
            "width": null,
            "min_width": null,
            "border": null,
            "align_items": null,
            "bottom": null,
            "_model_module": "@jupyter-widgets/base",
            "top": null,
            "grid_column": null,
            "overflow_y": null,
            "overflow_x": null,
            "grid_auto_flow": null,
            "grid_area": null,
            "grid_template_columns": null,
            "flex": null,
            "_model_name": "LayoutModel",
            "justify_items": null,
            "grid_row": null,
            "max_height": null,
            "align_content": null,
            "visibility": null,
            "align_self": null,
            "height": null,
            "min_height": null,
            "padding": null,
            "grid_auto_rows": null,
            "grid_gap": null,
            "max_width": null,
            "order": null,
            "_view_module_version": "1.2.0",
            "grid_template_areas": null,
            "object_position": null,
            "object_fit": null,
            "grid_auto_columns": null,
            "margin": null,
            "display": null,
            "left": null
          }
        },
        "d76042761c4e4a3583d899540df1afc5": {
          "model_module": "@jupyter-widgets/controls",
          "model_name": "FloatProgressModel",
          "state": {
            "_view_name": "ProgressView",
            "style": "IPY_MODEL_64ab177d9c0242ddabcca08d99f757bf",
            "_dom_classes": [],
            "description": "Train epoch 0 of 2, loss: 0.0392,: 100%",
            "_model_name": "FloatProgressModel",
            "bar_style": "success",
            "max": 640,
            "_view_module": "@jupyter-widgets/controls",
            "_model_module_version": "1.5.0",
            "value": 640,
            "_view_count": null,
            "_view_module_version": "1.5.0",
            "orientation": "horizontal",
            "min": 0,
            "description_tooltip": null,
            "_model_module": "@jupyter-widgets/controls",
            "layout": "IPY_MODEL_792b3157594343f180eaec4e37a5704c"
          }
        },
        "57c8d6068758401dad16d2bc1494f5ec": {
          "model_module": "@jupyter-widgets/controls",
          "model_name": "HTMLModel",
          "state": {
            "_view_name": "HTMLView",
            "style": "IPY_MODEL_1977af9b1de242709b4981d4bdbdaa6f",
            "_dom_classes": [],
            "description": "",
            "_model_name": "HTMLModel",
            "placeholder": "​",
            "_view_module": "@jupyter-widgets/controls",
            "_model_module_version": "1.5.0",
            "value": " 640/640 [06:16&lt;00:00,  1.70it/s]",
            "_view_count": null,
            "_view_module_version": "1.5.0",
            "description_tooltip": null,
            "_model_module": "@jupyter-widgets/controls",
            "layout": "IPY_MODEL_440da4d8d0cd48189d8be76b9906051f"
          }
        },
        "64ab177d9c0242ddabcca08d99f757bf": {
          "model_module": "@jupyter-widgets/controls",
          "model_name": "ProgressStyleModel",
          "state": {
            "_view_name": "StyleView",
            "_model_name": "ProgressStyleModel",
            "description_width": "initial",
            "_view_module": "@jupyter-widgets/base",
            "_model_module_version": "1.5.0",
            "_view_count": null,
            "_view_module_version": "1.2.0",
            "bar_color": null,
            "_model_module": "@jupyter-widgets/controls"
          }
        },
        "792b3157594343f180eaec4e37a5704c": {
          "model_module": "@jupyter-widgets/base",
          "model_name": "LayoutModel",
          "state": {
            "_view_name": "LayoutView",
            "grid_template_rows": null,
            "right": null,
            "justify_content": null,
            "_view_module": "@jupyter-widgets/base",
            "overflow": null,
            "_model_module_version": "1.2.0",
            "_view_count": null,
            "flex_flow": null,
            "width": null,
            "min_width": null,
            "border": null,
            "align_items": null,
            "bottom": null,
            "_model_module": "@jupyter-widgets/base",
            "top": null,
            "grid_column": null,
            "overflow_y": null,
            "overflow_x": null,
            "grid_auto_flow": null,
            "grid_area": null,
            "grid_template_columns": null,
            "flex": null,
            "_model_name": "LayoutModel",
            "justify_items": null,
            "grid_row": null,
            "max_height": null,
            "align_content": null,
            "visibility": null,
            "align_self": null,
            "height": null,
            "min_height": null,
            "padding": null,
            "grid_auto_rows": null,
            "grid_gap": null,
            "max_width": null,
            "order": null,
            "_view_module_version": "1.2.0",
            "grid_template_areas": null,
            "object_position": null,
            "object_fit": null,
            "grid_auto_columns": null,
            "margin": null,
            "display": null,
            "left": null
          }
        },
        "1977af9b1de242709b4981d4bdbdaa6f": {
          "model_module": "@jupyter-widgets/controls",
          "model_name": "DescriptionStyleModel",
          "state": {
            "_view_name": "StyleView",
            "_model_name": "DescriptionStyleModel",
            "description_width": "",
            "_view_module": "@jupyter-widgets/base",
            "_model_module_version": "1.5.0",
            "_view_count": null,
            "_view_module_version": "1.2.0",
            "_model_module": "@jupyter-widgets/controls"
          }
        },
        "440da4d8d0cd48189d8be76b9906051f": {
          "model_module": "@jupyter-widgets/base",
          "model_name": "LayoutModel",
          "state": {
            "_view_name": "LayoutView",
            "grid_template_rows": null,
            "right": null,
            "justify_content": null,
            "_view_module": "@jupyter-widgets/base",
            "overflow": null,
            "_model_module_version": "1.2.0",
            "_view_count": null,
            "flex_flow": null,
            "width": null,
            "min_width": null,
            "border": null,
            "align_items": null,
            "bottom": null,
            "_model_module": "@jupyter-widgets/base",
            "top": null,
            "grid_column": null,
            "overflow_y": null,
            "overflow_x": null,
            "grid_auto_flow": null,
            "grid_area": null,
            "grid_template_columns": null,
            "flex": null,
            "_model_name": "LayoutModel",
            "justify_items": null,
            "grid_row": null,
            "max_height": null,
            "align_content": null,
            "visibility": null,
            "align_self": null,
            "height": null,
            "min_height": null,
            "padding": null,
            "grid_auto_rows": null,
            "grid_gap": null,
            "max_width": null,
            "order": null,
            "_view_module_version": "1.2.0",
            "grid_template_areas": null,
            "object_position": null,
            "object_fit": null,
            "grid_auto_columns": null,
            "margin": null,
            "display": null,
            "left": null
          }
        },
        "a47594cd414045789172b7b0be44ccad": {
          "model_module": "@jupyter-widgets/controls",
          "model_name": "HBoxModel",
          "state": {
            "_view_name": "HBoxView",
            "_dom_classes": [],
            "_model_name": "HBoxModel",
            "_view_module": "@jupyter-widgets/controls",
            "_model_module_version": "1.5.0",
            "_view_count": null,
            "_view_module_version": "1.5.0",
            "box_style": "",
            "layout": "IPY_MODEL_544d0409692441f0bdf0fbed0b24cf93",
            "_model_module": "@jupyter-widgets/controls",
            "children": [
              "IPY_MODEL_1beb8edfac224e589ffdb517715a3186",
              "IPY_MODEL_a6cac9e0b7de4e0c9b57ef2b264b4179"
            ]
          }
        },
        "544d0409692441f0bdf0fbed0b24cf93": {
          "model_module": "@jupyter-widgets/base",
          "model_name": "LayoutModel",
          "state": {
            "_view_name": "LayoutView",
            "grid_template_rows": null,
            "right": null,
            "justify_content": null,
            "_view_module": "@jupyter-widgets/base",
            "overflow": null,
            "_model_module_version": "1.2.0",
            "_view_count": null,
            "flex_flow": null,
            "width": null,
            "min_width": null,
            "border": null,
            "align_items": null,
            "bottom": null,
            "_model_module": "@jupyter-widgets/base",
            "top": null,
            "grid_column": null,
            "overflow_y": null,
            "overflow_x": null,
            "grid_auto_flow": null,
            "grid_area": null,
            "grid_template_columns": null,
            "flex": null,
            "_model_name": "LayoutModel",
            "justify_items": null,
            "grid_row": null,
            "max_height": null,
            "align_content": null,
            "visibility": null,
            "align_self": null,
            "height": null,
            "min_height": null,
            "padding": null,
            "grid_auto_rows": null,
            "grid_gap": null,
            "max_width": null,
            "order": null,
            "_view_module_version": "1.2.0",
            "grid_template_areas": null,
            "object_position": null,
            "object_fit": null,
            "grid_auto_columns": null,
            "margin": null,
            "display": null,
            "left": null
          }
        },
        "1beb8edfac224e589ffdb517715a3186": {
          "model_module": "@jupyter-widgets/controls",
          "model_name": "FloatProgressModel",
          "state": {
            "_view_name": "ProgressView",
            "style": "IPY_MODEL_ebfa787895ea4a8bab5b0149cee757fb",
            "_dom_classes": [],
            "description": "Train epoch 1 of 2, loss: 0.0374,: 100%",
            "_model_name": "FloatProgressModel",
            "bar_style": "success",
            "max": 640,
            "_view_module": "@jupyter-widgets/controls",
            "_model_module_version": "1.5.0",
            "value": 640,
            "_view_count": null,
            "_view_module_version": "1.5.0",
            "orientation": "horizontal",
            "min": 0,
            "description_tooltip": null,
            "_model_module": "@jupyter-widgets/controls",
            "layout": "IPY_MODEL_08cb9c52b2bc44d38306f4d5f1bdb283"
          }
        },
        "a6cac9e0b7de4e0c9b57ef2b264b4179": {
          "model_module": "@jupyter-widgets/controls",
          "model_name": "HTMLModel",
          "state": {
            "_view_name": "HTMLView",
            "style": "IPY_MODEL_86d48cdd014a48808b289e222efb044a",
            "_dom_classes": [],
            "description": "",
            "_model_name": "HTMLModel",
            "placeholder": "​",
            "_view_module": "@jupyter-widgets/controls",
            "_model_module_version": "1.5.0",
            "value": " 640/640 [06:13&lt;00:00,  1.71it/s]",
            "_view_count": null,
            "_view_module_version": "1.5.0",
            "description_tooltip": null,
            "_model_module": "@jupyter-widgets/controls",
            "layout": "IPY_MODEL_28dfd1ceec9f40c7bf812d4c18db8de9"
          }
        },
        "ebfa787895ea4a8bab5b0149cee757fb": {
          "model_module": "@jupyter-widgets/controls",
          "model_name": "ProgressStyleModel",
          "state": {
            "_view_name": "StyleView",
            "_model_name": "ProgressStyleModel",
            "description_width": "initial",
            "_view_module": "@jupyter-widgets/base",
            "_model_module_version": "1.5.0",
            "_view_count": null,
            "_view_module_version": "1.2.0",
            "bar_color": null,
            "_model_module": "@jupyter-widgets/controls"
          }
        },
        "08cb9c52b2bc44d38306f4d5f1bdb283": {
          "model_module": "@jupyter-widgets/base",
          "model_name": "LayoutModel",
          "state": {
            "_view_name": "LayoutView",
            "grid_template_rows": null,
            "right": null,
            "justify_content": null,
            "_view_module": "@jupyter-widgets/base",
            "overflow": null,
            "_model_module_version": "1.2.0",
            "_view_count": null,
            "flex_flow": null,
            "width": null,
            "min_width": null,
            "border": null,
            "align_items": null,
            "bottom": null,
            "_model_module": "@jupyter-widgets/base",
            "top": null,
            "grid_column": null,
            "overflow_y": null,
            "overflow_x": null,
            "grid_auto_flow": null,
            "grid_area": null,
            "grid_template_columns": null,
            "flex": null,
            "_model_name": "LayoutModel",
            "justify_items": null,
            "grid_row": null,
            "max_height": null,
            "align_content": null,
            "visibility": null,
            "align_self": null,
            "height": null,
            "min_height": null,
            "padding": null,
            "grid_auto_rows": null,
            "grid_gap": null,
            "max_width": null,
            "order": null,
            "_view_module_version": "1.2.0",
            "grid_template_areas": null,
            "object_position": null,
            "object_fit": null,
            "grid_auto_columns": null,
            "margin": null,
            "display": null,
            "left": null
          }
        },
        "86d48cdd014a48808b289e222efb044a": {
          "model_module": "@jupyter-widgets/controls",
          "model_name": "DescriptionStyleModel",
          "state": {
            "_view_name": "StyleView",
            "_model_name": "DescriptionStyleModel",
            "description_width": "",
            "_view_module": "@jupyter-widgets/base",
            "_model_module_version": "1.5.0",
            "_view_count": null,
            "_view_module_version": "1.2.0",
            "_model_module": "@jupyter-widgets/controls"
          }
        },
        "28dfd1ceec9f40c7bf812d4c18db8de9": {
          "model_module": "@jupyter-widgets/base",
          "model_name": "LayoutModel",
          "state": {
            "_view_name": "LayoutView",
            "grid_template_rows": null,
            "right": null,
            "justify_content": null,
            "_view_module": "@jupyter-widgets/base",
            "overflow": null,
            "_model_module_version": "1.2.0",
            "_view_count": null,
            "flex_flow": null,
            "width": null,
            "min_width": null,
            "border": null,
            "align_items": null,
            "bottom": null,
            "_model_module": "@jupyter-widgets/base",
            "top": null,
            "grid_column": null,
            "overflow_y": null,
            "overflow_x": null,
            "grid_auto_flow": null,
            "grid_area": null,
            "grid_template_columns": null,
            "flex": null,
            "_model_name": "LayoutModel",
            "justify_items": null,
            "grid_row": null,
            "max_height": null,
            "align_content": null,
            "visibility": null,
            "align_self": null,
            "height": null,
            "min_height": null,
            "padding": null,
            "grid_auto_rows": null,
            "grid_gap": null,
            "max_width": null,
            "order": null,
            "_view_module_version": "1.2.0",
            "grid_template_areas": null,
            "object_position": null,
            "object_fit": null,
            "grid_auto_columns": null,
            "margin": null,
            "display": null,
            "left": null
          }
        }
      }
    }
  },
  "cells": [
    {
      "cell_type": "markdown",
      "metadata": {
        "id": "view-in-github",
        "colab_type": "text"
      },
      "source": [
        "<a href=\"https://colab.research.google.com/github/zemerov/hate_detection/blob/main/hate_speach_detection.ipynb\" target=\"_parent\"><img src=\"https://colab.research.google.com/assets/colab-badge.svg\" alt=\"Open In Colab\"/></a>"
      ]
    },
    {
      "cell_type": "markdown",
      "metadata": {
        "id": "vH3xv78einys"
      },
      "source": [
        "## Twitter hate speach detection\n",
        "\n",
        "General plan:\n",
        "1. Finetune RoBERTa or DeBERTa\n",
        "2. Construct PR-curve\n",
        "3. Compare to plain inference\n",
        "4. Make simle CLI for inference\n"
      ]
    },
    {
      "cell_type": "code",
      "metadata": {
        "id": "7b_VQoCiikAg"
      },
      "source": [
        "%%capture\n",
        "!pip install transformers\n",
        "!pip install datasets\n",
        "\n",
        "import torch \n",
        "import torch.nn as nn\n",
        "from transformers import RobertaTokenizer, RobertaForSequenceClassification\n",
        "from transformers import AdamW\n",
        "import torch.optim as optim\n",
        "\n",
        "import numpy as np\n",
        "import matplotlib.pyplot as plt\n",
        "import seaborn as sns\n",
        "\n",
        "from sklearn.metrics import accuracy_score, classification_report, confusion_matrix\n",
        "from sklearn.model_selection import train_test_split\n",
        "\n",
        "import copy\n",
        "import os\n",
        "from tqdm import tqdm\n",
        "from tqdm import notebook\n",
        "\n",
        "import datasets \n",
        "\n",
        "sns.set(palette='summer')"
      ],
      "execution_count": 1,
      "outputs": []
    },
    {
      "cell_type": "markdown",
      "metadata": {
        "id": "lFQ3zHe9Kn2n"
      },
      "source": [
        "## Dataset and dataloaders"
      ]
    },
    {
      "cell_type": "code",
      "metadata": {
        "id": "pzVuCX7joKoI"
      },
      "source": [
        "class CustomIterator:\n",
        "    def __init__(self, dataset, tokenizer: RobertaTokenizer, batch_size: int = 64):\n",
        "        \"\"\"\n",
        "        :param dataset: dataset with smaples and labels\n",
        "        \"\"\"\n",
        "        # Sort dataset for reduce padding idx in training\n",
        "        self.dataset = sorted(\n",
        "            dataset, \n",
        "            key=lambda x: len(x[1])\n",
        "            ) \n",
        "\n",
        "        self.batches = []\n",
        "\n",
        "        for i in notebook.tqdm_notebook(range(0, len(self.dataset), batch_size), desc=\"Batching data\"):\n",
        "            self.batches.append(\n",
        "                (\n",
        "                    tokenizer(\n",
        "                        [x[1] for x in self.dataset[i:min(i + batch_size, len(dataset))]],\n",
        "                        return_tensors='pt',\n",
        "                        padding=True,\n",
        "                        truncation=True\n",
        "                    ),\n",
        "                    torch.LongTensor(\n",
        "                        [x[0] for x in self.dataset[i:min(i + batch_size, len(dataset))]]\n",
        "                                              )\n",
        "                )\n",
        "            )\n",
        "    \n",
        "    def __iter__(self):\n",
        "        \"\"\"\n",
        "        Batch generator\n",
        "        yield batch: ({\"input_ids\" : toch.Tensor, \"attention_mask\": torch.Tensor}, target: torch.LongTensor)\n",
        "        \"\"\"\n",
        "        for batch in self.batches:\n",
        "            yield batch\n",
        "\n",
        "    def __len__(self):\n",
        "        return len(self.batches)"
      ],
      "execution_count": 2,
      "outputs": []
    },
    {
      "cell_type": "code",
      "metadata": {
        "colab": {
          "base_uri": "https://localhost:8080/"
        },
        "id": "TyRBOKqJjgIS",
        "outputId": "8c946bd5-8dc6-4f4e-ba29-a6da75c959aa"
      },
      "source": [
        "dataset = datasets.load_dataset('tweets_hate_speech_detection', split='train')"
      ],
      "execution_count": 3,
      "outputs": [
        {
          "output_type": "stream",
          "text": [
            "Using custom data configuration default\n",
            "Reusing dataset tweets_hate_speech_detection (/root/.cache/huggingface/datasets/tweets_hate_speech_detection/default/0.0.0/c32a982d8b2d6233065d820ac655454174f8aaa8faddc74979cf793486acd3b0)\n"
          ],
          "name": "stderr"
        }
      ]
    },
    {
      "cell_type": "code",
      "metadata": {
        "id": "K39AdUcELdcQ"
      },
      "source": [
        "tokenizer = RobertaTokenizer.from_pretrained(\"roberta-base\")"
      ],
      "execution_count": 4,
      "outputs": []
    },
    {
      "cell_type": "markdown",
      "metadata": {
        "id": "Z5AEF1UzdJHi"
      },
      "source": [
        "The dataset is imbalanced, so that add class weights in loss to get appropriate results."
      ]
    },
    {
      "cell_type": "code",
      "metadata": {
        "colab": {
          "base_uri": "https://localhost:8080/"
        },
        "id": "R40qL4Gwk-a5",
        "outputId": "b0730afa-be57-4a61-cdb9-7b3bd88e5c97"
      },
      "source": [
        "class_weights = torch.FloatTensor([1, (len(dataset) - sum(dataset['label'])) / sum(dataset['label']) ])\n",
        "class_weights"
      ],
      "execution_count": 5,
      "outputs": [
        {
          "output_type": "execute_result",
          "data": {
            "text/plain": [
              "tensor([ 1.0000, 13.2560])"
            ]
          },
          "metadata": {
            "tags": []
          },
          "execution_count": 5
        }
      ]
    },
    {
      "cell_type": "code",
      "metadata": {
        "id": "vbrLDh8OlhAw"
      },
      "source": [
        "text_label = []\n",
        "\n",
        "for x in dataset:\n",
        "    text_label.append((x['label'], x['tweet']))"
      ],
      "execution_count": 6,
      "outputs": []
    },
    {
      "cell_type": "code",
      "metadata": {
        "colab": {
          "base_uri": "https://localhost:8080/"
        },
        "id": "v1ZziAEgmVmN",
        "outputId": "1052aedb-43fb-4727-8d2e-bf9d6d6ef7c8"
      },
      "source": [
        "train_set, test_set = train_test_split(text_label, shuffle=True, test_size=0.2)\n",
        "valid_set, test_set = train_test_split(test_set, shuffle=True, test_size=0.5)\n",
        "\n",
        "print(\"Got sizes for train {}; valid {}; test {}.\".format(len(train_set), len(valid_set), len(test_set)))"
      ],
      "execution_count": 7,
      "outputs": [
        {
          "output_type": "stream",
          "text": [
            "Got sizes for train 25569; valid 3196; test 3197.\n"
          ],
          "name": "stdout"
        }
      ]
    },
    {
      "cell_type": "code",
      "metadata": {
        "colab": {
          "base_uri": "https://localhost:8080/",
          "height": 165,
          "referenced_widgets": [
            "c5e490dc7ac44d62bf1b9c847304217c",
            "f5d3629d48274d1c9f4c795217ee433d",
            "86b163ff1c194161a66c3af1787c5097",
            "0b94241a16e346e5adcdf15507cecfc9",
            "51575af18f23498c8cf2db69b39db280",
            "b371583d8c6b455ca1467c47887b6581",
            "bb10231ff8c8470b8245198d819f371d",
            "8942a6ffd905420aafd92599e27e9dbe",
            "6def4da75fae42958761ac2c2d6bbf1d",
            "084f2367ea9c4a2e86fa0d984b870436",
            "68fae42d9c5a4743ac1b63a5afb056b5",
            "05456daca3dc4e6193b56e4f1017dd83",
            "cedd0c4aa0754cc1b4787ca3e3729b9b",
            "6a8166d0ff3149bcbc1969b4e96e9b63",
            "b188233dcd724462af6213ee35b37a12",
            "74befa9a7b4f475a8ad2530cb951407f",
            "b9a22192082d4d0da10e656e5dfacef8",
            "e29a1963fb3f4e15acb836e189eb81b7",
            "dd064727e0774b6a9d9cab06b5218b4b",
            "743dff16f73946d5979f980af81c1474",
            "733659ed4acd4964bb2cfbd95ee26fd1",
            "2f02bc6c885a48c1a6e275988c0b6b98",
            "e6a555395cd34f1ca0154b70f34d5db7",
            "265c877b310b4623b74929b20d48b978"
          ]
        },
        "id": "8S8mWt73nNTE",
        "outputId": "c7637067-4d8c-4a83-b1f8-97d1293b2fd9"
      },
      "source": [
        "BATCH_SIZE = 40\n",
        "\n",
        "train_iterator = CustomIterator(train_set, tokenizer, BATCH_SIZE)\n",
        "valid_iterator = CustomIterator(valid_set, tokenizer, BATCH_SIZE)\n",
        "test_iterator = CustomIterator(test_set, tokenizer, BATCH_SIZE)"
      ],
      "execution_count": 8,
      "outputs": [
        {
          "output_type": "display_data",
          "data": {
            "application/vnd.jupyter.widget-view+json": {
              "model_id": "c5e490dc7ac44d62bf1b9c847304217c",
              "version_minor": 0,
              "version_major": 2
            },
            "text/plain": [
              "HBox(children=(FloatProgress(value=0.0, description='Batching data', max=640.0, style=ProgressStyle(descriptio…"
            ]
          },
          "metadata": {
            "tags": []
          }
        },
        {
          "output_type": "stream",
          "text": [
            "\n"
          ],
          "name": "stdout"
        },
        {
          "output_type": "display_data",
          "data": {
            "application/vnd.jupyter.widget-view+json": {
              "model_id": "6def4da75fae42958761ac2c2d6bbf1d",
              "version_minor": 0,
              "version_major": 2
            },
            "text/plain": [
              "HBox(children=(FloatProgress(value=0.0, description='Batching data', max=80.0, style=ProgressStyle(description…"
            ]
          },
          "metadata": {
            "tags": []
          }
        },
        {
          "output_type": "stream",
          "text": [
            "\n"
          ],
          "name": "stdout"
        },
        {
          "output_type": "display_data",
          "data": {
            "application/vnd.jupyter.widget-view+json": {
              "model_id": "b9a22192082d4d0da10e656e5dfacef8",
              "version_minor": 0,
              "version_major": 2
            },
            "text/plain": [
              "HBox(children=(FloatProgress(value=0.0, description='Batching data', max=80.0, style=ProgressStyle(description…"
            ]
          },
          "metadata": {
            "tags": []
          }
        },
        {
          "output_type": "stream",
          "text": [
            "\n"
          ],
          "name": "stdout"
        }
      ]
    },
    {
      "cell_type": "markdown",
      "metadata": {
        "id": "hnYIZ3TLblgM"
      },
      "source": [
        "## Download pretrained Roberta model"
      ]
    },
    {
      "cell_type": "code",
      "metadata": {
        "id": "AEybvEdkbqyY"
      },
      "source": [
        "device = 'cuda'\n",
        "model = RobertaForSequenceClassification.from_pretrained('roberta-base').to(device)"
      ],
      "execution_count": 9,
      "outputs": []
    },
    {
      "cell_type": "code",
      "metadata": {
        "id": "fC3aUNw0gL8l"
      },
      "source": [
        "optimizer = AdamW(model.parameters())"
      ],
      "execution_count": 10,
      "outputs": []
    },
    {
      "cell_type": "markdown",
      "metadata": {
        "id": "vqTB2gdMosqo"
      },
      "source": [
        "## Training loop"
      ]
    },
    {
      "cell_type": "code",
      "metadata": {
        "id": "6qOoDXPAor4j"
      },
      "source": [
        "def calculate_classification_metrics(pred, real):\n",
        "    \"\"\"\n",
        "    Calculates binary classification metrics: accuracy, precision, recall, f1.\n",
        "\n",
        "    :param pred, real: np.array with same shape. \n",
        "    :return (accuracy, precision, recall, f1): tuple of floats \n",
        "    \"\"\"\n",
        "    tp = (pred[real == 1] == 1).sum()\n",
        "    fp = (pred[real == 0] == 1).sum()\n",
        "    fn = (pred[real == 1] == 0).sum()\n",
        "\n",
        "    accuracy = (pred == real).sum() / real.shape[0]\n",
        "    precision = tp / (tp + fp)\n",
        "    recall = tp / (tp + fn)\n",
        "    f1 = 2 * (precision * recall) / (precision + recall)\n",
        "    \n",
        "    return accuracy, precision, recall, f1"
      ],
      "execution_count": 11,
      "outputs": []
    },
    {
      "cell_type": "code",
      "metadata": {
        "id": "qZhedKDmpC7E"
      },
      "source": [
        "def save_checkpoint(save_path, model):    \n",
        "    torch.save(model.state_dict(), save_path)\n",
        "\n",
        "    print(f'Model saved to ==> {save_path}')\n",
        "\n",
        "def load_checkpoint(load_path, model):\n",
        "    \n",
        "    state_dict = torch.load(load_path, map_location=device)\n",
        "    print(f'Model loaded from <== {load_path}')\n",
        "    \n",
        "    model.load_state_dict(torch.load(load_path, map_location=device))"
      ],
      "execution_count": 12,
      "outputs": []
    },
    {
      "cell_type": "code",
      "metadata": {
        "id": "A3FQ9lf2rRIo"
      },
      "source": [
        "def evaluate(eval_iter, model, criterion=nn.NLLLoss(), show=False):\n",
        "    \"\"\"\n",
        "    Evaluate model on eval_iter\n",
        "    :param eval_iter: torch.Iterator\n",
        "    :param model: torch.nn.Module. Model to evaluate \n",
        "    :param criterion: torch loss function.\n",
        "    :param show: bool. Whether to print accuracy, precision etc scores.\n",
        "      \n",
        "    :return (valid_running_loss, (accuracy, precision, recall, f1_score)): all floats\n",
        "    \"\"\"\n",
        "    model.eval()\n",
        "\n",
        "    predicted = torch.LongTensor([0])\n",
        "    real = torch.LongTensor([0])\n",
        "    valid_running_loss = []\n",
        "    with torch.no_grad():\n",
        "        for batch in eval_iter:\n",
        "            x, y = batch\n",
        "            \n",
        "            input = x['input_ids'].to(device)\n",
        "            attention_mask = x['attention_mask'].to(device)\n",
        "            labels = y.to(device)\n",
        "\n",
        "            logits = model(input, attention_mask=attention_mask)['logits']\n",
        "            \n",
        "            softmax_targets = nn.LogSoftmax(dim=1)(logits)\n",
        "            \n",
        "            valid_running_loss.append(criterion(\n",
        "                softmax_targets,\n",
        "                labels\n",
        "                ).item())\n",
        "\n",
        "            predicted = torch.cat(\n",
        "                [predicted, softmax_targets.argmax(dim=1).to('cpu')]\n",
        "                )\n",
        "            real = torch.cat([real, labels.to('cpu')])\n",
        "    metrics = calculate_classification_metrics(predicted.numpy(), real.numpy())\n",
        "\n",
        "    if show:\n",
        "        print(\"Accuracy {:.4f}; Precision {:.4f}; Recall {:.4f}; F1 {:.4f}\".format(*metrics))\n",
        "\n",
        "    return np.array(valid_running_loss).mean(), metrics"
      ],
      "execution_count": 13,
      "outputs": []
    },
    {
      "cell_type": "code",
      "metadata": {
        "id": "vlqJN5AjpBvK"
      },
      "source": [
        "def train(model,\n",
        "          optimizer,\n",
        "          criterion=torch.nn.NLLLoss(),\n",
        "          train_loader=train_iterator,\n",
        "          valid_loader=valid_iterator,\n",
        "          num_epochs=2,\n",
        "          eval_every=len(train_iterator) // 2,\n",
        "          file_path=\".\", \n",
        "          best_valid_loss=float(\"Inf\"),\n",
        "          name='RoBerta.pt',\n",
        "          metrics_name='metrics.pt',\n",
        "          show=False,\n",
        "          device='cpu'\n",
        "          ):\n",
        "    \"\"\"\n",
        "    Function for training the model\n",
        "\n",
        "    :param model: torch model for training\n",
        "    :param train_loader: torch.Iterator; contains training dataset\n",
        "    :param valid_loader: torch.Iterator; contains validation dataset\n",
        "    :param num_epoch: int; Quantitu of epochs\n",
        "    :param evar_every: int; number of steps after which perform validation\n",
        "    :param file_path: str; path to folder to save model parameters\n",
        "    :param best_valid_loss: float\n",
        "    :param name: str; name for saving model params  \n",
        "    :param metrics_name: str; name for saving model metrics\n",
        "    :param show: bool; Show metrics during train.\n",
        "\n",
        "    :return None\n",
        "    \"\"\"\n",
        "\n",
        "    # initialize running values\n",
        "    running_loss = 0.0\n",
        "    valid_running_loss = 0.0\n",
        "    global_step = 0\n",
        "    train_loss_list = []\n",
        "    valid_loss_list = []\n",
        "    global_steps_list = []\n",
        "    metrics = []  # tuple of classification metrics\n",
        "\n",
        "    # training loop\n",
        "    model.train()\n",
        "    for epoch in range(num_epochs):\n",
        "        pbar = notebook.tqdm_notebook(train_loader, desc=f\"Train epoch {epoch} of {num_epochs}, loss: {running_loss:.4f},\")\n",
        "\n",
        "        for batch in pbar:\n",
        "            optimizer.zero_grad()\n",
        "            x, y = batch\n",
        "            \n",
        "            input = x['input_ids'].to(device)\n",
        "            attention_mask = x['attention_mask'].to(device)\n",
        "            labels = y.to(device)\n",
        "            \n",
        "            logits = model(input, attention_mask=attention_mask)['logits']\n",
        "            \n",
        "            softmax_targets = nn.LogSoftmax(dim=1)(logits)\n",
        "            loss = criterion(softmax_targets, labels)\n",
        "            \n",
        "            loss.backward()\n",
        "            optimizer.step()\n",
        "\n",
        "            running_loss += loss.item()\n",
        "            global_step += 1\n",
        "\n",
        "            torch.cuda.empty_cache()\n",
        "            pbar.set_description(f\"Train epoch {epoch} of {num_epochs}, loss: {loss.item():.4f},\")\n",
        "\n",
        "            # =========================== BEGINING OF BORROWED CODE =======================\n",
        "\n",
        "            if global_step % eval_every == 0:\n",
        "                valid_running_loss, current_metrics = evaluate(valid_loader, model, show=show)\n",
        "\n",
        "                # evaluation\n",
        "                average_train_loss = running_loss / eval_every\n",
        "                average_valid_loss = valid_running_loss\n",
        "                train_loss_list.append(average_train_loss)\n",
        "                valid_loss_list.append(average_valid_loss)\n",
        "                global_steps_list.append(global_step)\n",
        "                metrics.append(current_metrics)\n",
        "\n",
        "                # resetting running values\n",
        "                running_loss = 0.0                \n",
        "                valid_running_loss = 0.0\n",
        "                model.train()\n",
        "\n",
        "                # print progress\n",
        "                print('Epoch [{}/{}], Step [{}/{}], Train Loss: {:.4f}, Valid Loss: {:.4f}'\n",
        "                      .format(epoch+1, num_epochs, global_step, num_epochs * len(train_loader),\n",
        "                              average_train_loss, average_valid_loss))\n",
        "                # checkpoint\n",
        "                if best_valid_loss > average_valid_loss:\n",
        "                    best_valid_loss = average_valid_loss\n",
        "                    save_checkpoint(file_path + '/' + name, model)\n",
        "    \n",
        "    print('=' * 30 + 'Train finished!' + '=' * 30)\n"
      ],
      "execution_count": 14,
      "outputs": []
    },
    {
      "cell_type": "code",
      "metadata": {
        "id": "gJc2yWIaVkPm"
      },
      "source": [
        "model = RobertaForSequenceClassification.from_pretrained('roberta-base').to(device)\n",
        "optimizer = AdamW(model.parameters(), lr=1e-5)"
      ],
      "execution_count": 15,
      "outputs": []
    },
    {
      "cell_type": "code",
      "metadata": {
        "id": "2DeckGsbXcHl"
      },
      "source": [
        "torch.cuda.empty_cache()"
      ],
      "execution_count": 16,
      "outputs": []
    },
    {
      "cell_type": "code",
      "metadata": {
        "colab": {
          "base_uri": "https://localhost:8080/"
        },
        "id": "fpBZ4ObmXYvQ",
        "outputId": "59117943-30e1-4448-cf90-089d4e113413"
      },
      "source": [
        "!nvidia-smi"
      ],
      "execution_count": 30,
      "outputs": [
        {
          "output_type": "stream",
          "text": [
            "Sun Apr 11 20:35:10 2021       \n",
            "+-----------------------------------------------------------------------------+\n",
            "| NVIDIA-SMI 460.67       Driver Version: 460.32.03    CUDA Version: 11.2     |\n",
            "|-------------------------------+----------------------+----------------------+\n",
            "| GPU  Name        Persistence-M| Bus-Id        Disp.A | Volatile Uncorr. ECC |\n",
            "| Fan  Temp  Perf  Pwr:Usage/Cap|         Memory-Usage | GPU-Util  Compute M. |\n",
            "|                               |                      |               MIG M. |\n",
            "|===============================+======================+======================|\n",
            "|   0  Tesla T4            Off  | 00000000:00:04.0 Off |                    0 |\n",
            "| N/A   71C    P0    29W /  70W |   4414MiB / 15109MiB |      0%      Default |\n",
            "|                               |                      |                  N/A |\n",
            "+-------------------------------+----------------------+----------------------+\n",
            "                                                                               \n",
            "+-----------------------------------------------------------------------------+\n",
            "| Processes:                                                                  |\n",
            "|  GPU   GI   CI        PID   Type   Process name                  GPU Memory |\n",
            "|        ID   ID                                                   Usage      |\n",
            "|=============================================================================|\n",
            "+-----------------------------------------------------------------------------+\n"
          ],
          "name": "stdout"
        }
      ]
    },
    {
      "cell_type": "markdown",
      "metadata": {
        "id": "1X_bnhdapUk6"
      },
      "source": [
        "Accordind to hardware and time constraints train model only for 2 epochs."
      ]
    },
    {
      "cell_type": "code",
      "metadata": {
        "colab": {
          "base_uri": "https://localhost:8080/",
          "height": 411,
          "referenced_widgets": [
            "ba247389b73d4c2eb5c3f4a85e539d5a",
            "5373e9e54d414da69b5c16298eb600bc",
            "d76042761c4e4a3583d899540df1afc5",
            "57c8d6068758401dad16d2bc1494f5ec",
            "64ab177d9c0242ddabcca08d99f757bf",
            "792b3157594343f180eaec4e37a5704c",
            "1977af9b1de242709b4981d4bdbdaa6f",
            "440da4d8d0cd48189d8be76b9906051f",
            "a47594cd414045789172b7b0be44ccad",
            "544d0409692441f0bdf0fbed0b24cf93",
            "1beb8edfac224e589ffdb517715a3186",
            "a6cac9e0b7de4e0c9b57ef2b264b4179",
            "ebfa787895ea4a8bab5b0149cee757fb",
            "08cb9c52b2bc44d38306f4d5f1bdb283",
            "86d48cdd014a48808b289e222efb044a",
            "28dfd1ceec9f40c7bf812d4c18db8de9"
          ]
        },
        "id": "SGPX1FAVTUi1",
        "outputId": "7706d39b-6199-46f4-c7cb-d2989c4f0e0f"
      },
      "source": [
        "train(\n",
        "    model, \n",
        "    optimizer, \n",
        "    criterion = nn.NLLLoss(weight=torch.Tensor(class_weights).to(device)),\n",
        "    train_loader=train_iterator,\n",
        "    valid_loader=valid_iterator,\n",
        "    eval_every=200,\n",
        "    num_epochs=2,\n",
        "    file_path=\"./\", \n",
        "    show=True,\n",
        "    device=device\n",
        ")"
      ],
      "execution_count": 18,
      "outputs": [
        {
          "output_type": "display_data",
          "data": {
            "application/vnd.jupyter.widget-view+json": {
              "model_id": "ba247389b73d4c2eb5c3f4a85e539d5a",
              "version_minor": 0,
              "version_major": 2
            },
            "text/plain": [
              "HBox(children=(FloatProgress(value=0.0, description='Train epoch 0 of 2, loss: 0.0000,', max=640.0, style=Prog…"
            ]
          },
          "metadata": {
            "tags": []
          }
        },
        {
          "output_type": "stream",
          "text": [
            "Accuracy 0.8023; Precision 0.2533; Recall 0.9289; F1 0.3981\n",
            "Epoch [1/2], Step [200/1280], Train Loss: 0.4426, Valid Loss: 0.5229\n",
            "Model saved to ==> .//RoBerta.pt\n",
            "Accuracy 0.9027; Precision 0.4157; Recall 0.9422; F1 0.5769\n",
            "Epoch [1/2], Step [400/1280], Train Loss: 0.2281, Valid Loss: 0.2338\n",
            "Model saved to ==> .//RoBerta.pt\n",
            "Accuracy 0.9478; Precision 0.5924; Recall 0.8267; F1 0.6902\n",
            "Epoch [1/2], Step [600/1280], Train Loss: 0.1843, Valid Loss: 0.1225\n",
            "Model saved to ==> .//RoBerta.pt\n",
            "\n"
          ],
          "name": "stdout"
        },
        {
          "output_type": "display_data",
          "data": {
            "application/vnd.jupyter.widget-view+json": {
              "model_id": "a47594cd414045789172b7b0be44ccad",
              "version_minor": 0,
              "version_major": 2
            },
            "text/plain": [
              "HBox(children=(FloatProgress(value=0.0, description='Train epoch 1 of 2, loss: 10.0321,', max=640.0, style=Pro…"
            ]
          },
          "metadata": {
            "tags": []
          }
        },
        {
          "output_type": "stream",
          "text": [
            "Accuracy 0.9065; Precision 0.4263; Recall 0.9511; F1 0.5887\n",
            "Epoch [2/2], Step [800/1280], Train Loss: 0.2670, Valid Loss: 0.2482\n",
            "Accuracy 0.9615; Precision 0.6723; Recall 0.8844; F1 0.7639\n",
            "Epoch [2/2], Step [1000/1280], Train Loss: 0.1343, Valid Loss: 0.1068\n",
            "Model saved to ==> .//RoBerta.pt\n",
            "Accuracy 0.9312; Precision 0.5061; Recall 0.9244; F1 0.6541\n",
            "Epoch [2/2], Step [1200/1280], Train Loss: 0.1113, Valid Loss: 0.1743\n",
            "\n",
            "==============================Train finished!==============================\n"
          ],
          "name": "stdout"
        }
      ]
    },
    {
      "cell_type": "code",
      "metadata": {
        "colab": {
          "base_uri": "https://localhost:8080/"
        },
        "id": "YIK98rJtXvbj",
        "outputId": "d91f3e5c-4532-41dc-c8ce-7307e3302801"
      },
      "source": [
        "print(\"Metrics for fine-tuned model on test set\")\n",
        "metrics = evaluate(test_iterator, model, show=True)"
      ],
      "execution_count": 19,
      "outputs": [
        {
          "output_type": "stream",
          "text": [
            "Metrics for fine-tuned model on test set\n",
            "Accuracy 0.9722; Precision 0.8128; Recall 0.7639; F1 0.7876\n"
          ],
          "name": "stdout"
        }
      ]
    },
    {
      "cell_type": "code",
      "metadata": {
        "colab": {
          "base_uri": "https://localhost:8080/"
        },
        "id": "ZnmldiXbfLne",
        "outputId": "3ed12865-b805-4719-f137-eab2a617d656"
      },
      "source": [
        "print(\"Metrics for plain model on test set\")\n",
        "\n",
        "plain_model = RobertaForSequenceClassification.from_pretrained('roberta-base').to(device)\n",
        "\n",
        "plain_metrics = evaluate(test_iterator, plain_model, show=True)"
      ],
      "execution_count": 32,
      "outputs": [
        {
          "output_type": "stream",
          "text": [
            "Metrics for plain model on test set\n",
            "Accuracy 0.9325; Precision nan; Recall 0.0000; F1 nan\n"
          ],
          "name": "stdout"
        },
        {
          "output_type": "stream",
          "text": [
            "/usr/local/lib/python3.7/dist-packages/ipykernel_launcher.py:13: RuntimeWarning: invalid value encountered in long_scalars\n",
            "  del sys.path[0]\n"
          ],
          "name": "stderr"
        }
      ]
    },
    {
      "cell_type": "markdown",
      "metadata": {
        "id": "Zr0-zAAGfw2Y"
      },
      "source": [
        "Finetuning have made the model much more accurate!"
      ]
    },
    {
      "cell_type": "markdown",
      "metadata": {
        "id": "vQRsvvvSdn3K"
      },
      "source": [
        "### PR Curve "
      ]
    },
    {
      "cell_type": "code",
      "metadata": {
        "id": "ZRiOZAnUemYi"
      },
      "source": [
        "from sklearn.metrics import precision_recall_curve"
      ],
      "execution_count": 21,
      "outputs": []
    },
    {
      "cell_type": "code",
      "metadata": {
        "id": "9zMYPzsOe1am"
      },
      "source": [
        "predicted_proba = []\n",
        "real = []\n",
        "with torch.no_grad():\n",
        "    for batch in test_iterator:\n",
        "        x, y = batch\n",
        "            \n",
        "        input = x['input_ids'].to(device)\n",
        "        attention_mask = x['attention_mask'].to(device)\n",
        "        labels = y.to(device)\n",
        "\n",
        "        logits = model(input, attention_mask=attention_mask)['logits']\n",
        "        softmax_targets = nn.Softmax(dim=1)(logits)\n",
        "\n",
        "        predicted_proba.append(softmax_targets.to('cpu').numpy())\n",
        "        real.append(labels.to('cpu').numpy())"
      ],
      "execution_count": 25,
      "outputs": []
    },
    {
      "cell_type": "code",
      "metadata": {
        "id": "Ci68KpEDhSQT"
      },
      "source": [
        "predicted_proba = np.concatenate(predicted_proba)\n",
        "real = np.concatenate(real)\n",
        "\n",
        "precision, recall, thresholds = precision_recall_curve(real, predicted_proba[:,1])"
      ],
      "execution_count": 26,
      "outputs": []
    },
    {
      "cell_type": "code",
      "metadata": {
        "colab": {
          "base_uri": "https://localhost:8080/",
          "height": 307
        },
        "id": "5jCbv7lDmU5l",
        "outputId": "3e46a473-1b8e-4c33-883a-f8f4deae5cec"
      },
      "source": [
        "sns.set(palette='summer')\n",
        "\n",
        "plt.plot(recall, precision)\n",
        "plt.xlabel('recall', fontsize=15)\n",
        "plt.ylabel('precision', fontsize=15)\n",
        "plt.title(\"PR Curve\", fontsize=18)\n",
        "plt.show()"
      ],
      "execution_count": 29,
      "outputs": [
        {
          "output_type": "display_data",
          "data": {
            "image/png": "[encoded data removed]",
            "text/plain": [
              "<Figure size 432x288 with 1 Axes>"
            ]
          },
          "metadata": {
            "tags": []
          }
        }
      ]
    },
    {
      "cell_type": "code",
      "metadata": {
        "id": "iYCB4tktpHdl"
      },
      "source": [
        ""
      ],
      "execution_count": null,
      "outputs": []
    }
  ]
}